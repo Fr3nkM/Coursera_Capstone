{
 "cells": [
  {
   "cell_type": "markdown",
   "metadata": {
    "collapsed": true
   },
   "source": [
    "## The Battle of the Neighborhoods - Week 1"
   ]
  },
  {
   "cell_type": "markdown",
   "metadata": {},
   "source": [
    "### Part 1 - A description of the problem and a discussion of the background.\n"
   ]
  },
  {
   "cell_type": "markdown",
   "metadata": {},
   "source": [
    "###  Problem Background:"
   ]
  },
  {
   "cell_type": "markdown",
   "metadata": {},
   "source": [
    "The City of New York, is the most populous city in the United States. New York City's demographics show that it is a large and ethnically diverse metropolis with a long history of international immigration.It is diverse and is the financial capital of USA. It is multicultural and with it's diverse culture , comes diverse food items. \n",
    "\n",
    "There are many resturants in New york City, each beloning to different categories like Italian , Mexican , Puerto Rican , Indian etc.\n",
    "\n",
    "So as part of this project , we will list, visualize and explor/analyze all major parts of New York City that has italian resturants."
   ]
  },
  {
   "cell_type": "markdown",
   "metadata": {},
   "source": [
    "###  Problem Description:"
   ]
  },
  {
   "cell_type": "markdown",
   "metadata": {},
   "source": [
    "A restaurant is a business which prepares and serves food and drink to customers in return for money. \n",
    "The City of New York is famous for its excelllent cuisine. It's food culture includes an array of international cuisines influenced by the city's immigrant history.<Br> \n",
    "\n",
    "So it is evident that to survive in such competitive market it is very important to startegically plan. Various factors need to be studied inorder to decide on the Location such as : <Br>\n",
    "1. Are there any Farmers Markets, Wholesale markets etc nearby so that the ingredients can be purchased fresh to maintain quality and cost?<Br>\n",
    "2. Are there any venues like Gyms, Entertainmnet zones, Parks etc nearby where floating population is high? <Br>\n",
    "3. Who are the competitors in that location? <Br>\n",
    "etc...\n",
    "    \n",
    "The XYZ Company Ltd. need to choose the correct location to start its first venture.If this is successful they can replicate the same in other locations. First move is very important, thereby choice of location is very important.\n",
    "\n",
    "#### *My client, a XYZ Company successful restaurant chain in Italy is looking to expand operation into USA through New York City.* \n",
    "Since the NYC demography is so big, my client needs deeper insight from available data in other to decide where to establish the first America “palace” restaurant. \n",
    "\n",
    "#### *My client's preference is the Brooklyn area, where a good group of Italians live.*"
   ]
  },
  {
   "cell_type": "markdown",
   "metadata": {},
   "source": [
    "### Target Audience:"
   ]
  },
  {
   "cell_type": "markdown",
   "metadata": {},
   "source": [
    "The objective is to locate and recommend to the management which neighborhood of New York City will be best choice to start an Italian Restaurant.\n",
    "\n",
    "Considering the diversity of the great metropolis, there is a high multicultural sense. This would interest anyone who wants to start a new activity in a great city as NY."
   ]
  },
  {
   "cell_type": "markdown",
   "metadata": {},
   "source": [
    "###  Success Criteria:"
   ]
  },
  {
   "cell_type": "markdown",
   "metadata": {},
   "source": [
    "Which location should be suggested to the stakeholder?\n",
    "The success criteria of the project will be a good recommendation of borough/Neighborhood choice to the Company."
   ]
  }
 ],
 "metadata": {
  "kernelspec": {
   "display_name": "Python 3",
   "language": "python",
   "name": "python3"
  },
  "language_info": {
   "codemirror_mode": {
    "name": "ipython",
    "version": 3
   },
   "file_extension": ".py",
   "mimetype": "text/x-python",
   "name": "python",
   "nbconvert_exporter": "python",
   "pygments_lexer": "ipython3",
   "version": "3.6.8"
  }
 },
 "nbformat": 4,
 "nbformat_minor": 1
}
